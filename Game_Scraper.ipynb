{
 "cells": [
  {
   "cell_type": "code",
   "execution_count": 1,
   "metadata": {},
   "outputs": [],
   "source": [
    "import requests\n",
    "import time\n",
    "import csv\n",
    "from tqdm import tqdm\n",
    "import pandas as pd"
   ]
  },
  {
   "cell_type": "code",
   "execution_count": 2,
   "metadata": {},
   "outputs": [],
   "source": [
    "rawg_api = 'https://api.rawg.io/api/games' # ?page=<number>&page_size=<number>\n",
    "def list_games(json):\n",
    "    games = []\n",
    "    for result in json['results']:\n",
    "        genres = get_genres(result)\n",
    "        games.append([result['id'], result['name'], result['rating'], \n",
    "                      result['ratings_count'], result['ratings'], genres, \n",
    "                      result['released']])\n",
    "    return games"
   ]
  },
  {
   "cell_type": "code",
   "execution_count": 3,
   "metadata": {},
   "outputs": [],
   "source": [
    "def get_genres(result):\n",
    "    return [genre['name'] for genre in result['genres']]"
   ]
  },
  {
   "cell_type": "code",
   "execution_count": 4,
   "metadata": {},
   "outputs": [],
   "source": [
    "def to_csv(game, filename):\n",
    "    with open(f'{filename}.csv', 'a') as myfile:\n",
    "        wr = csv.writer(myfile, quoting=csv.QUOTE_ALL)\n",
    "        wr.writerow(game)"
   ]
  },
  {
   "cell_type": "code",
   "execution_count": 5,
   "metadata": {},
   "outputs": [],
   "source": [
    "def call_api(api, pages, filename):\n",
    "    not_added =[]\n",
    "    total_games = []\n",
    "    for page in tqdm(range(pages[0], pages[1])):\n",
    "        json = requests.get(f'{api}?page={page}&page_size=40').json()\n",
    "        games = list_games(json)\n",
    "        try:\n",
    "            for game in games:\n",
    "                to_csv(game, filename)\n",
    "        except:\n",
    "            not_added.append(game)\n",
    "        time.sleep(1)       \n",
    "    return not_added"
   ]
  },
  {
   "cell_type": "code",
   "execution_count": 6,
   "metadata": {
    "scrolled": true
   },
   "outputs": [
    {
     "name": "stderr",
     "output_type": "stream",
     "text": [
      "100%|████████████████████████████████████████████████████████████████████████████| 8259/8259 [4:31:27<00:00,  1.97s/it]\n"
     ]
    }
   ],
   "source": [
    "not_added = call_api(rawg_api, [1, 8260], 'Rawg_genre_data')"
   ]
  },
  {
   "cell_type": "code",
   "execution_count": 7,
   "metadata": {},
   "outputs": [],
   "source": [
    "df = pd.read_csv('Rawg_genre_data.csv', encoding='ISO-8859-1',\n",
    "                names=['Rawg_id', 'Game', 'Rawg_rating', 'Rawg_vote_count',\n",
    "                        'Rating_Bdown', 'Genres', 'Released'])"
   ]
  },
  {
   "cell_type": "code",
   "execution_count": 46,
   "metadata": {},
   "outputs": [],
   "source": [
    "new_df = df[df['Rawg_vote_count']>=1]\n",
    "new_df.to_csv('votes_only_raw_data.csv', index=False)"
   ]
  },
  {
   "cell_type": "code",
   "execution_count": null,
   "metadata": {},
   "outputs": [],
   "source": [
    "import re\n",
    "\n",
    "df2 = df['Genre'].str.replace(r']', '')\n",
    "df2 = pd.DataFrame(df2.str.split().values.tolist())\n",
    "df2[0] = df2[0].str.replace(r'[', '')\n",
    "df2"
   ]
  },
  {
   "cell_type": "code",
   "execution_count": null,
   "metadata": {},
   "outputs": [],
   "source": []
  }
 ],
 "metadata": {
  "kernelspec": {
   "display_name": "Python 3",
   "language": "python",
   "name": "python3"
  },
  "language_info": {
   "codemirror_mode": {
    "name": "ipython",
    "version": 3
   },
   "file_extension": ".py",
   "mimetype": "text/x-python",
   "name": "python",
   "nbconvert_exporter": "python",
   "pygments_lexer": "ipython3",
   "version": "3.7.4"
  }
 },
 "nbformat": 4,
 "nbformat_minor": 2
}
