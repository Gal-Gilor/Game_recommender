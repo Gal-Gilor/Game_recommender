{
 "cells": [
  {
   "cell_type": "code",
   "execution_count": 1,
   "metadata": {},
   "outputs": [],
   "source": [
    "import json\n",
    "import requests\n",
    "import time\n",
    "from tqdm import tqdm\n",
    "import pandas as pd"
   ]
  },
  {
   "cell_type": "code",
   "execution_count": 2,
   "metadata": {},
   "outputs": [],
   "source": [
    "# the rawg api call url\n",
    "# example: requests.get('https://api.rawg.io/api/games?page=1&page_size=40').json()\n",
    "rawg_api = 'https://api.rawg.io/api/games' # ?page=<number>&page_size=<number>"
   ]
  },
  {
   "cell_type": "code",
   "execution_count": 3,
   "metadata": {},
   "outputs": [],
   "source": [
    "def get_genres(result):\n",
    "    '''\n",
    "    Input:\n",
    "        results: RAWG video game API 'results' json\n",
    "    Returns:\n",
    "        list of game genres\n",
    "    '''\n",
    "    return [genre['name'] for genre in result['genres']]"
   ]
  },
  {
   "cell_type": "code",
   "execution_count": 4,
   "metadata": {},
   "outputs": [],
   "source": [
    "def list_games(json):\n",
    "    '''\n",
    "    Input:\n",
    "        json: RAWG video game API 'results' json\n",
    "    Returns:\n",
    "        A dictionary containing the games'  id, name\n",
    "        rating, ratings breakdown, release date,\n",
    "        metacritic score, ratings count, and genres\n",
    "    '''\n",
    "    games = []\n",
    "    for result in json['results']:\n",
    "        games_dict = {}\n",
    "        genres = get_genres(result)\n",
    "        \n",
    "        games_dict['id'] = result['id']\n",
    "        games_dict['name'] = result['name']\n",
    "        games_dict['rating'] = result['rating']\n",
    "        games_dict['ratings'] = result['ratings']\n",
    "        games_dict['released'] = result['released']\n",
    "        games_dict['metacritic'] = result['metacritic']\n",
    "        games_dict['ratings_count'] = result['ratings_count']\n",
    "        games_dict['genres'] = genres\n",
    "        \n",
    "        # if more than 3 people voted for the rating save the data\n",
    "        if games_dict['ratings_count'] > 3:\n",
    "            games.append(games_dict)\n",
    "    return games"
   ]
  },
  {
   "cell_type": "code",
   "execution_count": 5,
   "metadata": {},
   "outputs": [],
   "source": [
    "def to_json(game, filename):\n",
    "    '''\n",
    "    Input:\n",
    "        game: dictionary containing the data to write to the file\n",
    "        filename: a string stating the name and path you wish to save the file at\n",
    "    Returns:\n",
    "        json file\n",
    "    '''\n",
    "    with open(f'{filename}.json', 'a') as file:\n",
    "            file.write(f'{json.dumps(game)}\\n')\n",
    "    return"
   ]
  },
  {
   "cell_type": "code",
   "execution_count": 6,
   "metadata": {},
   "outputs": [],
   "source": [
    "def call_api(api, pages, filename):\n",
    "    '''\n",
    "   Input:\n",
    "       api: rawg api url\n",
    "       pages: which pages I want to scrape from the api\n",
    "       filename: the filename and path I want to save the file\n",
    "    Returns:\n",
    "        json file containing the the games'  id, name\n",
    "        rating, ratings breakdown, release date,\n",
    "        metacritic score, ratings count and genres, and a list\n",
    "        of games that failed to save to json    \n",
    "    '''\n",
    "    not_added =[]\n",
    "    total_games = []\n",
    "    \n",
    "    # make and api call extract what you need\n",
    "    for page in tqdm(range(pages[0], pages[1])):\n",
    "        json = requests.get(f'{api}?page={page}&page_size=40').json()\n",
    "        games = list_games(json)\n",
    "        try: # try save the file to json\n",
    "            for game in games: \n",
    "                to_json(game, filename)\n",
    "        except: # if failed, save in a python list to address later\n",
    "            not_added.append(game)\n",
    "        time.sleep(1)       \n",
    "    return not_added"
   ]
  },
  {
   "cell_type": "code",
   "execution_count": 7,
   "metadata": {
    "scrolled": true
   },
   "outputs": [
    {
     "name": "stderr",
     "output_type": "stream",
     "text": [
      "100%|████████████████████████████████████████████████████████████████████████████| 8299/8299 [4:37:58<00:00,  2.01s/it]\n"
     ]
    }
   ],
   "source": [
    "not_added = call_api(rawg_api, [1, 8300], 'raw_data')"
   ]
  },
  {
   "cell_type": "code",
   "execution_count": 9,
   "metadata": {},
   "outputs": [
    {
     "data": {
      "text/html": [
       "<div>\n",
       "<style scoped>\n",
       "    .dataframe tbody tr th:only-of-type {\n",
       "        vertical-align: middle;\n",
       "    }\n",
       "\n",
       "    .dataframe tbody tr th {\n",
       "        vertical-align: top;\n",
       "    }\n",
       "\n",
       "    .dataframe thead th {\n",
       "        text-align: right;\n",
       "    }\n",
       "</style>\n",
       "<table border=\"1\" class=\"dataframe\">\n",
       "  <thead>\n",
       "    <tr style=\"text-align: right;\">\n",
       "      <th></th>\n",
       "      <th>id</th>\n",
       "      <th>name</th>\n",
       "      <th>rating</th>\n",
       "      <th>ratings</th>\n",
       "      <th>released</th>\n",
       "      <th>metacritic</th>\n",
       "      <th>ratings_count</th>\n",
       "      <th>genres</th>\n",
       "    </tr>\n",
       "  </thead>\n",
       "  <tbody>\n",
       "    <tr>\n",
       "      <td>0</td>\n",
       "      <td>3498</td>\n",
       "      <td>Grand Theft Auto V</td>\n",
       "      <td>4.48</td>\n",
       "      <td>[{'id': 5, 'title': 'exceptional', 'count': 16...</td>\n",
       "      <td>2013-09-17</td>\n",
       "      <td>96.0</td>\n",
       "      <td>2758</td>\n",
       "      <td>[Action, Shooter]</td>\n",
       "    </tr>\n",
       "    <tr>\n",
       "      <td>1</td>\n",
       "      <td>4200</td>\n",
       "      <td>Portal 2</td>\n",
       "      <td>4.61</td>\n",
       "      <td>[{'id': 5, 'title': 'exceptional', 'count': 16...</td>\n",
       "      <td>2011-04-19</td>\n",
       "      <td>95.0</td>\n",
       "      <td>2405</td>\n",
       "      <td>[Shooter, Puzzle]</td>\n",
       "    </tr>\n",
       "    <tr>\n",
       "      <td>2</td>\n",
       "      <td>3328</td>\n",
       "      <td>The Witcher 3: Wild Hunt</td>\n",
       "      <td>4.68</td>\n",
       "      <td>[{'id': 5, 'title': 'exceptional', 'count': 20...</td>\n",
       "      <td>2015-05-18</td>\n",
       "      <td>93.0</td>\n",
       "      <td>2552</td>\n",
       "      <td>[RPG]</td>\n",
       "    </tr>\n",
       "    <tr>\n",
       "      <td>3</td>\n",
       "      <td>5679</td>\n",
       "      <td>The Elder Scrolls V: Skyrim</td>\n",
       "      <td>4.39</td>\n",
       "      <td>[{'id': 5, 'title': 'exceptional', 'count': 10...</td>\n",
       "      <td>2011-11-11</td>\n",
       "      <td>NaN</td>\n",
       "      <td>2015</td>\n",
       "      <td>[Action, RPG]</td>\n",
       "    </tr>\n",
       "    <tr>\n",
       "      <td>4</td>\n",
       "      <td>12020</td>\n",
       "      <td>Left 4 Dead 2</td>\n",
       "      <td>4.08</td>\n",
       "      <td>[{'id': 4, 'title': 'recommended', 'count': 76...</td>\n",
       "      <td>2009-11-17</td>\n",
       "      <td>89.0</td>\n",
       "      <td>1431</td>\n",
       "      <td>[Action, Shooter]</td>\n",
       "    </tr>\n",
       "  </tbody>\n",
       "</table>\n",
       "</div>"
      ],
      "text/plain": [
       "      id                         name  rating  \\\n",
       "0   3498           Grand Theft Auto V    4.48   \n",
       "1   4200                     Portal 2    4.61   \n",
       "2   3328     The Witcher 3: Wild Hunt    4.68   \n",
       "3   5679  The Elder Scrolls V: Skyrim    4.39   \n",
       "4  12020                Left 4 Dead 2    4.08   \n",
       "\n",
       "                                             ratings    released  metacritic  \\\n",
       "0  [{'id': 5, 'title': 'exceptional', 'count': 16...  2013-09-17        96.0   \n",
       "1  [{'id': 5, 'title': 'exceptional', 'count': 16...  2011-04-19        95.0   \n",
       "2  [{'id': 5, 'title': 'exceptional', 'count': 20...  2015-05-18        93.0   \n",
       "3  [{'id': 5, 'title': 'exceptional', 'count': 10...  2011-11-11         NaN   \n",
       "4  [{'id': 4, 'title': 'recommended', 'count': 76...  2009-11-17        89.0   \n",
       "\n",
       "   ratings_count             genres  \n",
       "0           2758  [Action, Shooter]  \n",
       "1           2405  [Shooter, Puzzle]  \n",
       "2           2552              [RPG]  \n",
       "3           2015      [Action, RPG]  \n",
       "4           1431  [Action, Shooter]  "
      ]
     },
     "execution_count": 9,
     "metadata": {},
     "output_type": "execute_result"
    }
   ],
   "source": [
    "df = pd.read_json('raw_data.json', lines=True)\n",
    "df.head()"
   ]
  },
  {
   "cell_type": "code",
   "execution_count": 12,
   "metadata": {},
   "outputs": [
    {
     "name": "stdout",
     "output_type": "stream",
     "text": [
      "id               False\n",
      "name             False\n",
      "rating           False\n",
      "ratings          False\n",
      "released          True\n",
      "metacritic        True\n",
      "ratings_count    False\n",
      "genres           False\n",
      "dtype: bool\n",
      "\n",
      "<class 'pandas.core.frame.DataFrame'>\n",
      "RangeIndex: 11298 entries, 0 to 11297\n",
      "Data columns (total 8 columns):\n",
      "id               11298 non-null int64\n",
      "name             11298 non-null object\n",
      "rating           11298 non-null float64\n",
      "ratings          11298 non-null object\n",
      "released         11088 non-null object\n",
      "metacritic       2271 non-null float64\n",
      "ratings_count    11298 non-null int64\n",
      "genres           11298 non-null object\n",
      "dtypes: float64(2), int64(2), object(4)\n",
      "memory usage: 706.2+ KB\n"
     ]
    }
   ],
   "source": [
    "print(f'{df.isna().any()}\\n')\n",
    "df.info()"
   ]
  },
  {
   "cell_type": "code",
   "execution_count": null,
   "metadata": {},
   "outputs": [],
   "source": []
  }
 ],
 "metadata": {
  "kernelspec": {
   "display_name": "Python 3",
   "language": "python",
   "name": "python3"
  },
  "language_info": {
   "codemirror_mode": {
    "name": "ipython",
    "version": 3
   },
   "file_extension": ".py",
   "mimetype": "text/x-python",
   "name": "python",
   "nbconvert_exporter": "python",
   "pygments_lexer": "ipython3",
   "version": "3.6.9"
  }
 },
 "nbformat": 4,
 "nbformat_minor": 2
}
