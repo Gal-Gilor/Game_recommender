{
 "cells": [
  {
   "cell_type": "code",
   "execution_count": 1,
   "metadata": {},
   "outputs": [],
   "source": [
    "import json\n",
    "import requests\n",
    "import time\n",
    "from tqdm import tqdm\n",
    "import pandas as pd"
   ]
  },
  {
   "cell_type": "code",
   "execution_count": 2,
   "metadata": {},
   "outputs": [],
   "source": [
    "# the rawg api call url\n",
    "# example: requests.get('https://api.rawg.io/api/games?page=1&page_size=40').json()\n",
    "rawg_api = 'https://api.rawg.io/api/games' # ?page=<number>&page_size=<number>"
   ]
  },
  {
   "cell_type": "code",
   "execution_count": 3,
   "metadata": {},
   "outputs": [],
   "source": [
    "def get_genres(result):\n",
    "    '''\n",
    "    Input:\n",
    "        results: RAWG video game API 'results' json\n",
    "    Returns:\n",
    "        list of game genres\n",
    "    '''\n",
    "    return [genre['name'] for genre in result['genres']]"
   ]
  },
  {
   "cell_type": "code",
   "execution_count": 4,
   "metadata": {},
   "outputs": [],
   "source": [
    "def list_games(json):\n",
    "    '''\n",
    "    Input:\n",
    "        json: RAWG video game API 'results' json\n",
    "    Returns:\n",
    "        A dictionary containing the games'  id, name\n",
    "        rating, ratings breakdown, release date,\n",
    "        metacritic score, ratings count, and genres\n",
    "    '''\n",
    "    games = []\n",
    "    for result in json['results']:\n",
    "        games_dict = {}\n",
    "        genres = get_genres(result)\n",
    "        \n",
    "        games_dict['id'] = result['id']\n",
    "        games_dict['name'] = result['name']\n",
    "        games_dict['rating'] = result['rating']\n",
    "        games_dict['ratings'] = result['ratings']\n",
    "        games_dict['released'] = result['released']\n",
    "        games_dict['metacritic'] = result['metacritic']\n",
    "        games_dict['ratings_count'] = result['ratings_count']\n",
    "        games_dict['genres'] = genres\n",
    "        \n",
    "        # if more than 3 people voted for the rating save the data\n",
    "        if games_dict['ratings_count'] > 3:\n",
    "            games.append(games_dict)\n",
    "    return games"
   ]
  },
  {
   "cell_type": "code",
   "execution_count": 5,
   "metadata": {},
   "outputs": [],
   "source": [
    "def to_json(game, filename):\n",
    "    '''\n",
    "    Input:\n",
    "        game: dictionary containing the data to write to the file\n",
    "        filename: a string stating the name and path you wish to save the file at\n",
    "    Returns:\n",
    "        json file\n",
    "    '''\n",
    "    with open(f'{filename}.json', 'a') as file:\n",
    "            file.write(f'{json.dumps(game)}\\n')\n",
    "    return"
   ]
  },
  {
   "cell_type": "code",
   "execution_count": 6,
   "metadata": {},
   "outputs": [],
   "source": [
    "def call_api(api, pages, filename):\n",
    "    '''\n",
    "   Input:\n",
    "       api: rawg api url\n",
    "       pages: which pages I want to scrape from the api\n",
    "       filename: the filename and path I want to save the file\n",
    "    Returns:\n",
    "        json file containing the the games'  id, name\n",
    "        rating, ratings breakdown, release date,\n",
    "        metacritic score, ratings count and genres, and a list\n",
    "        of games that failed to save to json    \n",
    "    '''\n",
    "    not_added =[]\n",
    "    total_games = []\n",
    "    \n",
    "    # make and api call extract what you need\n",
    "    for page in tqdm(range(pages[0], pages[1])):\n",
    "        json = requests.get(f'{api}?page={page}&page_size=40').json()\n",
    "        games = list_games(json)\n",
    "        try: # try save the file to json\n",
    "            for game in games: \n",
    "                to_json(game, filename)\n",
    "        except: # if failed, save in a python list to address later\n",
    "            not_added.append(game)\n",
    "        time.sleep(1)       \n",
    "    return not_added"
   ]
  },
  {
   "cell_type": "code",
   "execution_count": null,
   "metadata": {
    "scrolled": true
   },
   "outputs": [
    {
     "name": "stderr",
     "output_type": "stream",
     "text": [
      "  0%|                                                                               | 3/8299 [00:05<4:20:18,  1.88s/it]"
     ]
    }
   ],
   "source": [
    "not_added = call_api(rawg_api, [1, 8300], 'raw_data')"
   ]
  },
  {
   "cell_type": "code",
   "execution_count": null,
   "metadata": {},
   "outputs": [],
   "source": [
    "df = pd.read_json('test.json', lines=True)\n",
    "df.head()"
   ]
  },
  {
   "cell_type": "code",
   "execution_count": null,
   "metadata": {},
   "outputs": [],
   "source": [
    "\n"
   ]
  }
 ],
 "metadata": {
  "kernelspec": {
   "display_name": "Python 3",
   "language": "python",
   "name": "python3"
  },
  "language_info": {
   "codemirror_mode": {
    "name": "ipython",
    "version": 3
   },
   "file_extension": ".py",
   "mimetype": "text/x-python",
   "name": "python",
   "nbconvert_exporter": "python",
   "pygments_lexer": "ipython3",
   "version": "3.7.4"
  }
 },
 "nbformat": 4,
 "nbformat_minor": 2
}
